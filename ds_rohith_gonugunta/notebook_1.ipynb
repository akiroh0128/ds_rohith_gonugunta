{
 "cells": [
  {
   "cell_type": "code",
   "execution_count": 1,
   "metadata": {},
   "outputs": [
    {
     "name": "stdout",
     "output_type": "stream",
     "text": [
      "Note: you may need to restart the kernel to use updated packages.\n"
     ]
    },
    {
     "name": "stderr",
     "output_type": "stream",
     "text": [
      "ERROR: pip's dependency resolver does not currently take into account all the packages that are installed. This behaviour is the source of the following dependency conflicts.\n",
      "tensorflow-intel 2.12.0 requires numpy<1.24,>=1.22, but you have numpy 1.26.4 which is incompatible.\n",
      "\n",
      "[notice] A new release of pip is available: 24.3.1 -> 25.2\n",
      "[notice] To update, run: python.exe -m pip install --upgrade pip\n"
     ]
    }
   ],
   "source": [
    "%pip install --quiet gdown pandas matplotlib seaborn scikit-learn xgboost statsmodels joblib\n",
    "\n"
   ]
  },
  {
   "cell_type": "code",
   "execution_count": null,
   "id": "1c383f57",
   "metadata": {},
   "outputs": [
    {
     "name": "stdout",
     "output_type": "stream",
     "text": [
      "Downloading Hyperliquid trades data...\n"
     ]
    },
    {
     "name": "stderr",
     "output_type": "stream",
     "text": [
      "Downloading...\n",
      "From: https://drive.google.com/uc?id=1IAfLZwu6rJzyWKgBToqwSmmVYU6VbjVs\n",
      "To: c:\\Users\\Rohith\\Downloads\\ds_rohith_gonugunta\\hyperliquid_trades.csv\n",
      "100%|██████████| 47.5M/47.5M [00:12<00:00, 3.66MB/s]\n"
     ]
    },
    {
     "name": "stdout",
     "output_type": "stream",
     "text": [
      "Downloading Fear & Greed index data...\n"
     ]
    },
    {
     "name": "stderr",
     "output_type": "stream",
     "text": [
      "Downloading...\n",
      "From: https://drive.google.com/uc?id=1PgQC0tO8XN-wqkNyghWc_-mnrYv_nhSf\n",
      "To: c:\\Users\\Rohith\\Downloads\\ds_rohith_gonugunta\\fear_greed.csv\n",
      "100%|██████████| 90.8k/90.8k [00:00<00:00, 741kB/s]"
     ]
    },
    {
     "name": "stdout",
     "output_type": "stream",
     "text": [
      "\n",
      "Files in working directory:\n",
      "hyperliquid_trades.csv - 46403 KB\n",
      "fear_greed.csv - 88 KB\n"
     ]
    },
    {
     "name": "stderr",
     "output_type": "stream",
     "text": [
      "\n"
     ]
    }
   ],
   "source": [
    "import gdown\n",
    "\n",
    "# File IDs\n",
    "HYPERLIQUID_ID = '1IAfLZwu6rJzyWKgBToqwSmmVYU6VbjVs'\n",
    "FEARGREED_ID = '1PgQC0tO8XN-wqkNyghWc_-mnrYv_nhSf'\n",
    "\n",
    "print(\"Downloading Hyperliquid trades data...\")\n",
    "gdown.download(id=HYPERLIQUID_ID, output='hyperliquid_trades.csv', quiet=False)\n",
    "\n",
    "print(\"Downloading Fear & Greed index data...\")\n",
    "gdown.download(id=FEARGREED_ID, output='fear_greed.csv', quiet=False)\n",
    "\n",
    "import os\n",
    "\n",
    "print(\"\\nFiles in working directory:\")\n",
    "for f in ['hyperliquid_trades.csv', 'fear_greed.csv']:\n",
    "    if os.path.exists(f):\n",
    "        print(f, \"-\", os.path.getsize(f)//1024, \"KB\")\n",
    "    else:\n",
    "        print(f, \"NOT FOUND\")\n"
   ]
  },
  {
   "cell_type": "code",
   "execution_count": 2,
   "id": "0c68122f",
   "metadata": {},
   "outputs": [
    {
     "name": "stdout",
     "output_type": "stream",
     "text": [
      "Trades - rows, columns: (211224, 16)\n",
      "Fear & Greed - rows, columns: (2644, 4)\n"
     ]
    }
   ],
   "source": [
    "import pandas as pd\n",
    "\n",
    "# Load Hyperliquid trades\n",
    "trades = pd.read_csv('hyperliquid_trades.csv', low_memory=False)\n",
    "\n",
    "# Load Fear & Greed data\n",
    "fg = pd.read_csv('fear_greed.csv', low_memory=False)\n",
    "\n",
    "# Check shapes\n",
    "print('Trades - rows, columns:', trades.shape)\n",
    "print('Fear & Greed - rows, columns:', fg.shape)\n"
   ]
  },
  {
   "cell_type": "code",
   "execution_count": 3,
   "id": "54af300a",
   "metadata": {},
   "outputs": [
    {
     "data": {
      "text/html": [
       "<div>\n",
       "<style scoped>\n",
       "    .dataframe tbody tr th:only-of-type {\n",
       "        vertical-align: middle;\n",
       "    }\n",
       "\n",
       "    .dataframe tbody tr th {\n",
       "        vertical-align: top;\n",
       "    }\n",
       "\n",
       "    .dataframe thead th {\n",
       "        text-align: right;\n",
       "    }\n",
       "</style>\n",
       "<table border=\"1\" class=\"dataframe\">\n",
       "  <thead>\n",
       "    <tr style=\"text-align: right;\">\n",
       "      <th></th>\n",
       "      <th>Account</th>\n",
       "      <th>Coin</th>\n",
       "      <th>Execution Price</th>\n",
       "      <th>Size Tokens</th>\n",
       "      <th>Size USD</th>\n",
       "      <th>Side</th>\n",
       "      <th>Timestamp IST</th>\n",
       "      <th>Start Position</th>\n",
       "      <th>Direction</th>\n",
       "      <th>Closed PnL</th>\n",
       "      <th>Transaction Hash</th>\n",
       "      <th>Order ID</th>\n",
       "      <th>Crossed</th>\n",
       "      <th>Fee</th>\n",
       "      <th>Trade ID</th>\n",
       "      <th>Timestamp</th>\n",
       "    </tr>\n",
       "  </thead>\n",
       "  <tbody>\n",
       "    <tr>\n",
       "      <th>0</th>\n",
       "      <td>0xae5eacaf9c6b9111fd53034a602c192a04e082ed</td>\n",
       "      <td>@107</td>\n",
       "      <td>7.9769</td>\n",
       "      <td>986.87</td>\n",
       "      <td>7872.16</td>\n",
       "      <td>BUY</td>\n",
       "      <td>02-12-2024 22:50</td>\n",
       "      <td>0.000000</td>\n",
       "      <td>Buy</td>\n",
       "      <td>0.0</td>\n",
       "      <td>0xec09451986a1874e3a980418412fcd0201f500c95bac...</td>\n",
       "      <td>52017706630</td>\n",
       "      <td>True</td>\n",
       "      <td>0.345404</td>\n",
       "      <td>8.950000e+14</td>\n",
       "      <td>1.730000e+12</td>\n",
       "    </tr>\n",
       "    <tr>\n",
       "      <th>1</th>\n",
       "      <td>0xae5eacaf9c6b9111fd53034a602c192a04e082ed</td>\n",
       "      <td>@107</td>\n",
       "      <td>7.9800</td>\n",
       "      <td>16.00</td>\n",
       "      <td>127.68</td>\n",
       "      <td>BUY</td>\n",
       "      <td>02-12-2024 22:50</td>\n",
       "      <td>986.524596</td>\n",
       "      <td>Buy</td>\n",
       "      <td>0.0</td>\n",
       "      <td>0xec09451986a1874e3a980418412fcd0201f500c95bac...</td>\n",
       "      <td>52017706630</td>\n",
       "      <td>True</td>\n",
       "      <td>0.005600</td>\n",
       "      <td>4.430000e+14</td>\n",
       "      <td>1.730000e+12</td>\n",
       "    </tr>\n",
       "    <tr>\n",
       "      <th>2</th>\n",
       "      <td>0xae5eacaf9c6b9111fd53034a602c192a04e082ed</td>\n",
       "      <td>@107</td>\n",
       "      <td>7.9855</td>\n",
       "      <td>144.09</td>\n",
       "      <td>1150.63</td>\n",
       "      <td>BUY</td>\n",
       "      <td>02-12-2024 22:50</td>\n",
       "      <td>1002.518996</td>\n",
       "      <td>Buy</td>\n",
       "      <td>0.0</td>\n",
       "      <td>0xec09451986a1874e3a980418412fcd0201f500c95bac...</td>\n",
       "      <td>52017706630</td>\n",
       "      <td>True</td>\n",
       "      <td>0.050431</td>\n",
       "      <td>6.600000e+14</td>\n",
       "      <td>1.730000e+12</td>\n",
       "    </tr>\n",
       "    <tr>\n",
       "      <th>3</th>\n",
       "      <td>0xae5eacaf9c6b9111fd53034a602c192a04e082ed</td>\n",
       "      <td>@107</td>\n",
       "      <td>7.9874</td>\n",
       "      <td>142.98</td>\n",
       "      <td>1142.04</td>\n",
       "      <td>BUY</td>\n",
       "      <td>02-12-2024 22:50</td>\n",
       "      <td>1146.558564</td>\n",
       "      <td>Buy</td>\n",
       "      <td>0.0</td>\n",
       "      <td>0xec09451986a1874e3a980418412fcd0201f500c95bac...</td>\n",
       "      <td>52017706630</td>\n",
       "      <td>True</td>\n",
       "      <td>0.050043</td>\n",
       "      <td>1.080000e+15</td>\n",
       "      <td>1.730000e+12</td>\n",
       "    </tr>\n",
       "    <tr>\n",
       "      <th>4</th>\n",
       "      <td>0xae5eacaf9c6b9111fd53034a602c192a04e082ed</td>\n",
       "      <td>@107</td>\n",
       "      <td>7.9894</td>\n",
       "      <td>8.73</td>\n",
       "      <td>69.75</td>\n",
       "      <td>BUY</td>\n",
       "      <td>02-12-2024 22:50</td>\n",
       "      <td>1289.488521</td>\n",
       "      <td>Buy</td>\n",
       "      <td>0.0</td>\n",
       "      <td>0xec09451986a1874e3a980418412fcd0201f500c95bac...</td>\n",
       "      <td>52017706630</td>\n",
       "      <td>True</td>\n",
       "      <td>0.003055</td>\n",
       "      <td>1.050000e+15</td>\n",
       "      <td>1.730000e+12</td>\n",
       "    </tr>\n",
       "  </tbody>\n",
       "</table>\n",
       "</div>"
      ],
      "text/plain": [
       "                                      Account  Coin  Execution Price  \\\n",
       "0  0xae5eacaf9c6b9111fd53034a602c192a04e082ed  @107           7.9769   \n",
       "1  0xae5eacaf9c6b9111fd53034a602c192a04e082ed  @107           7.9800   \n",
       "2  0xae5eacaf9c6b9111fd53034a602c192a04e082ed  @107           7.9855   \n",
       "3  0xae5eacaf9c6b9111fd53034a602c192a04e082ed  @107           7.9874   \n",
       "4  0xae5eacaf9c6b9111fd53034a602c192a04e082ed  @107           7.9894   \n",
       "\n",
       "   Size Tokens  Size USD Side     Timestamp IST  Start Position Direction  \\\n",
       "0       986.87   7872.16  BUY  02-12-2024 22:50        0.000000       Buy   \n",
       "1        16.00    127.68  BUY  02-12-2024 22:50      986.524596       Buy   \n",
       "2       144.09   1150.63  BUY  02-12-2024 22:50     1002.518996       Buy   \n",
       "3       142.98   1142.04  BUY  02-12-2024 22:50     1146.558564       Buy   \n",
       "4         8.73     69.75  BUY  02-12-2024 22:50     1289.488521       Buy   \n",
       "\n",
       "   Closed PnL                                   Transaction Hash     Order ID  \\\n",
       "0         0.0  0xec09451986a1874e3a980418412fcd0201f500c95bac...  52017706630   \n",
       "1         0.0  0xec09451986a1874e3a980418412fcd0201f500c95bac...  52017706630   \n",
       "2         0.0  0xec09451986a1874e3a980418412fcd0201f500c95bac...  52017706630   \n",
       "3         0.0  0xec09451986a1874e3a980418412fcd0201f500c95bac...  52017706630   \n",
       "4         0.0  0xec09451986a1874e3a980418412fcd0201f500c95bac...  52017706630   \n",
       "\n",
       "   Crossed       Fee      Trade ID     Timestamp  \n",
       "0     True  0.345404  8.950000e+14  1.730000e+12  \n",
       "1     True  0.005600  4.430000e+14  1.730000e+12  \n",
       "2     True  0.050431  6.600000e+14  1.730000e+12  \n",
       "3     True  0.050043  1.080000e+15  1.730000e+12  \n",
       "4     True  0.003055  1.050000e+15  1.730000e+12  "
      ]
     },
     "metadata": {},
     "output_type": "display_data"
    },
    {
     "data": {
      "text/html": [
       "<div>\n",
       "<style scoped>\n",
       "    .dataframe tbody tr th:only-of-type {\n",
       "        vertical-align: middle;\n",
       "    }\n",
       "\n",
       "    .dataframe tbody tr th {\n",
       "        vertical-align: top;\n",
       "    }\n",
       "\n",
       "    .dataframe thead th {\n",
       "        text-align: right;\n",
       "    }\n",
       "</style>\n",
       "<table border=\"1\" class=\"dataframe\">\n",
       "  <thead>\n",
       "    <tr style=\"text-align: right;\">\n",
       "      <th></th>\n",
       "      <th>timestamp</th>\n",
       "      <th>value</th>\n",
       "      <th>classification</th>\n",
       "      <th>date</th>\n",
       "    </tr>\n",
       "  </thead>\n",
       "  <tbody>\n",
       "    <tr>\n",
       "      <th>0</th>\n",
       "      <td>1517463000</td>\n",
       "      <td>30</td>\n",
       "      <td>Fear</td>\n",
       "      <td>2018-02-01</td>\n",
       "    </tr>\n",
       "    <tr>\n",
       "      <th>1</th>\n",
       "      <td>1517549400</td>\n",
       "      <td>15</td>\n",
       "      <td>Extreme Fear</td>\n",
       "      <td>2018-02-02</td>\n",
       "    </tr>\n",
       "    <tr>\n",
       "      <th>2</th>\n",
       "      <td>1517635800</td>\n",
       "      <td>40</td>\n",
       "      <td>Fear</td>\n",
       "      <td>2018-02-03</td>\n",
       "    </tr>\n",
       "    <tr>\n",
       "      <th>3</th>\n",
       "      <td>1517722200</td>\n",
       "      <td>24</td>\n",
       "      <td>Extreme Fear</td>\n",
       "      <td>2018-02-04</td>\n",
       "    </tr>\n",
       "    <tr>\n",
       "      <th>4</th>\n",
       "      <td>1517808600</td>\n",
       "      <td>11</td>\n",
       "      <td>Extreme Fear</td>\n",
       "      <td>2018-02-05</td>\n",
       "    </tr>\n",
       "  </tbody>\n",
       "</table>\n",
       "</div>"
      ],
      "text/plain": [
       "    timestamp  value classification        date\n",
       "0  1517463000     30           Fear  2018-02-01\n",
       "1  1517549400     15   Extreme Fear  2018-02-02\n",
       "2  1517635800     40           Fear  2018-02-03\n",
       "3  1517722200     24   Extreme Fear  2018-02-04\n",
       "4  1517808600     11   Extreme Fear  2018-02-05"
      ]
     },
     "metadata": {},
     "output_type": "display_data"
    }
   ],
   "source": [
    "# Look at the top rows\n",
    "display(trades.head())\n",
    "display(fg.head())"
   ]
  },
  {
   "cell_type": "code",
   "execution_count": 4,
   "id": "2b169783",
   "metadata": {},
   "outputs": [
    {
     "name": "stdout",
     "output_type": "stream",
     "text": [
      "Trades column types:\n"
     ]
    },
    {
     "data": {
      "text/plain": [
       "Account              object\n",
       "Coin                 object\n",
       "Execution Price     float64\n",
       "Size Tokens         float64\n",
       "Size USD            float64\n",
       "Side                 object\n",
       "Timestamp IST        object\n",
       "Start Position      float64\n",
       "Direction            object\n",
       "Closed PnL          float64\n",
       "Transaction Hash     object\n",
       "Order ID              int64\n",
       "Crossed                bool\n",
       "Fee                 float64\n",
       "Trade ID            float64\n",
       "Timestamp           float64\n",
       "dtype: object"
      ]
     },
     "metadata": {},
     "output_type": "display_data"
    },
    {
     "name": "stdout",
     "output_type": "stream",
     "text": [
      "\n",
      "Fear & Greed column types:\n"
     ]
    },
    {
     "data": {
      "text/plain": [
       "timestamp          int64\n",
       "value              int64\n",
       "classification    object\n",
       "date              object\n",
       "dtype: object"
      ]
     },
     "metadata": {},
     "output_type": "display_data"
    }
   ],
   "source": [
    "print(\"Trades column types:\")\n",
    "display(trades.dtypes)\n",
    "\n",
    "print(\"\\nFear & Greed column types:\")\n",
    "display(fg.dtypes)\n"
   ]
  },
  {
   "cell_type": "code",
   "execution_count": 12,
   "id": "d7d68057",
   "metadata": {},
   "outputs": [
    {
     "name": "stdout",
     "output_type": "stream",
     "text": [
      "                 time        date\n",
      "0 2024-02-12 22:50:00  2024-02-12\n",
      "1 2024-02-12 22:50:00  2024-02-12\n",
      "2 2024-02-12 22:50:00  2024-02-12\n",
      "3 2024-02-12 22:50:00  2024-02-12\n",
      "4 2024-02-12 22:50:00  2024-02-12\n",
      "        date   date_only classification sentiment_bin\n",
      "0 2018-02-01  2018-02-01           Fear             0\n",
      "1 2018-02-02  2018-02-02   Extreme Fear             0\n",
      "2 2018-02-03  2018-02-03           Fear             0\n",
      "3 2018-02-04  2018-02-04   Extreme Fear             0\n",
      "4 2018-02-05  2018-02-05   Extreme Fear             0\n"
     ]
    }
   ],
   "source": [
    "# 1. Standardize column names\n",
    "trades.columns = [c.strip().lower().replace(' ', '_') for c in trades.columns]\n",
    "fg.columns = [c.strip().lower().replace(' ', '_') for c in fg.columns]\n",
    "\n",
    "# 2. Parse the trades timestamp\n",
    "# We'll use 'timestamp_ist' column because it's already human-readable\n",
    "trades['time'] = pd.to_datetime(trades['timestamp_ist'], errors='coerce')\n",
    "\n",
    "# 3. Parse Fear & Greed date\n",
    "fg['date'] = pd.to_datetime(fg['date'], errors='coerce')\n",
    "\n",
    "# 4. Create date-only columns for merging\n",
    "trades['date'] = trades['time'].dt.date\n",
    "fg['date_only'] = fg['date'].dt.date\n",
    "\n",
    "# 5. Map sentiment to binary\n",
    "fg['sentiment_bin'] = fg['classification'].str.lower().map(\n",
    "    lambda x: 1 if 'greed' in x else (0 if 'fear' in x else pd.NA)\n",
    ")\n",
    "\n",
    "# Quick check\n",
    "print(trades[['time', 'date']].head())\n",
    "print(fg[['date', 'date_only', 'classification', 'sentiment_bin']].head())\n"
   ]
  },
  {
   "cell_type": "code",
   "execution_count": null,
   "id": "0fba4d16",
   "metadata": {},
   "outputs": [
    {
     "name": "stdout",
     "output_type": "stream",
     "text": [
      "       execution_price   size_tokens      size_usd      closedpnl\n",
      "count    211224.000000  2.112240e+05  2.112240e+05  211224.000000\n",
      "mean      11414.723350  4.623365e+03  5.639451e+03      48.749001\n",
      "std       29447.654868  1.042729e+05  3.657514e+04     919.164828\n",
      "min           0.000005  8.740000e-07  0.000000e+00 -117990.104100\n",
      "25%           4.854700  2.940000e+00  1.937900e+02       0.000000\n",
      "50%          18.280000  3.200000e+01  5.970450e+02       0.000000\n",
      "75%         101.580000  1.879025e+02  2.058960e+03       5.792797\n",
      "max      109004.000000  1.582244e+07  3.921431e+06  135329.090100\n"
     ]
    }
   ],
   "source": [
    "# Ensure numeric columns in trades are correctly typed\n",
    "numeric_cols = [\n",
    "    'execution_price', 'size_tokens', 'size_usd',\n",
    "    'start_position', 'closed_pnl', 'fee', 'trade_id', 'timestamp'\n",
    "]\n",
    "\n",
    "for col in numeric_cols:\n",
    "    if col in trades.columns:\n",
    "        trades[col] = pd.to_numeric(trades[col], errors='coerce')\n",
    "\n",
    "# Rename closed_pnl to a canonical form\n",
    "trades = trades.rename(columns={'closed_pnl': 'closedpnl'})\n",
    "\n",
    "# Quick summary to check for issues\n",
    "print(trades[['execution_price', 'size_tokens', 'size_usd', 'closedpnl']].describe())\n"
   ]
  },
  {
   "cell_type": "code",
   "execution_count": null,
   "id": "4abae41f",
   "metadata": {},
   "outputs": [],
   "source": [
    "# Merge-friendly map from sentiment dataset\n",
    "fg_map = fg.set_index('date_only')['sentiment_bin']\n",
    "\n",
    "# Daily aggregation\n",
    "daily = trades.groupby('date').agg(\n",
    "    total_trades=('account', 'count'),\n",
    "    sum_pnl=('closedpnl', 'sum'),\n",
    "    mean_pnl=('closedpnl', 'mean'),\n",
    "    median_pnl=('closedpnl', 'median'),\n",
    "    pct_profitable=('closedpnl', lambda x: (x > 0).mean()),\n",
    "    avg_leverage=('start_position', 'mean'),   # Assuming start_position is leverage\n",
    "    median_size=('size_tokens', 'median')\n",
    ").reset_index()\n",
    "\n",
    "# Merge sentiment info\n",
    "daily['sentiment'] = daily['date'].map(fg_map)\n"
   ]
  },
  {
   "cell_type": "code",
   "execution_count": null,
   "id": "6fc29e47",
   "metadata": {},
   "outputs": [],
   "source": [
    "acct = trades.groupby('account').agg(\n",
    "    trades_count=('date', 'count'),\n",
    "    total_pnl=('closedpnl', 'sum'),\n",
    "    avg_pnl=('closedpnl', 'mean'),\n",
    "    win_rate=('closedpnl', lambda x: (x > 0).mean()),\n",
    "    avg_leverage=('start_position', 'mean')   # Assuming start_position is leverage\n",
    ").reset_index()\n"
   ]
  },
  {
   "cell_type": "code",
   "execution_count": 17,
   "id": "b41763e3",
   "metadata": {},
   "outputs": [
    {
     "name": "stdout",
     "output_type": "stream",
     "text": [
      "Saved daily_agg.csv, account_agg.csv, and trades_canonical.csv in csv_files/\n"
     ]
    }
   ],
   "source": [
    "# Save to csv_files/\n",
    "daily.to_csv('csv_files/daily_agg.csv', index=False)\n",
    "acct.to_csv('csv_files/account_agg.csv', index=False)\n",
    "trades.to_csv('csv_files/trades_canonical.csv', index=False)\n",
    "\n",
    "print(\"Saved daily_agg.csv, account_agg.csv, and trades_canonical.csv in csv_files/\")\n"
   ]
  },
  {
   "cell_type": "code",
   "execution_count": 18,
   "id": "99c31311",
   "metadata": {},
   "outputs": [],
   "source": [
    "import matplotlib.pyplot as plt\n",
    "import seaborn as sns\n",
    "\n",
    "sns.set(style='whitegrid')\n"
   ]
  },
  {
   "cell_type": "code",
   "execution_count": 21,
   "id": "6459705f",
   "metadata": {},
   "outputs": [],
   "source": [
    "fig, ax = plt.subplots(figsize=(12,4))\n",
    "\n",
    "# 7-day rolling PnL line\n",
    "ax.plot(pd.to_datetime(daily['date']),\n",
    "        daily['sum_pnl'].rolling(7, min_periods=1).mean(),\n",
    "        label='7-day rolling sum_pnl')\n",
    "\n",
    "# Highlight Greed days\n",
    "for _, row in daily.dropna(subset=['sentiment']).iterrows():\n",
    "    if row['sentiment'] == 1:\n",
    "        ax.axvspan(pd.to_datetime(row['date']),\n",
    "                   pd.to_datetime(row['date']) + pd.Timedelta(days=1),\n",
    "                   alpha=0.08, color='green')\n",
    "\n",
    "ax.set_title('Daily sum PnL (7-day rolling) — shaded = Greed days')\n",
    "ax.legend()\n",
    "plt.tight_layout()\n",
    "plt.savefig('outputs/daily_pnl_sentiment_timeseries.png', dpi=150)\n",
    "plt.close()\n"
   ]
  },
  {
   "cell_type": "code",
   "execution_count": 22,
   "id": "a919523e",
   "metadata": {},
   "outputs": [],
   "source": [
    "trades_sent = trades.merge(\n",
    "    fg[['date_only','classification']],\n",
    "    left_on='date', right_on='date_only',\n",
    "    how='left'\n",
    ")\n",
    "\n",
    "plt.figure(figsize=(8,5))\n",
    "sns.boxplot(data=trades_sent, x='classification', y='closedpnl')\n",
    "plt.yscale('symlog')  # better view for large PnL spikes\n",
    "plt.title('Trade closedPnL distribution by Sentiment')\n",
    "plt.savefig('outputs/boxplot_trade_pnl_by_sentiment.png', dpi=150)\n",
    "plt.close()\n"
   ]
  },
  {
   "cell_type": "code",
   "execution_count": 23,
   "id": "c1eb8aa6",
   "metadata": {},
   "outputs": [],
   "source": [
    "plt.figure(figsize=(8,6))\n",
    "sns.scatterplot(data=acct,\n",
    "                x='avg_leverage', y='total_pnl',\n",
    "                size='trades_count', alpha=0.7)\n",
    "plt.title('Account total PnL vs avg leverage')\n",
    "plt.savefig('outputs/account_pnl_vs_leverage.png', dpi=150)\n",
    "plt.close()\n"
   ]
  },
  {
   "cell_type": "code",
   "execution_count": 24,
   "id": "39a4d3d6",
   "metadata": {},
   "outputs": [
    {
     "name": "stdout",
     "output_type": "stream",
     "text": [
      "Fear trades: 52726 Greed trades: 82885\n"
     ]
    }
   ],
   "source": [
    "from scipy.stats import mannwhitneyu\n",
    "\n",
    "# Get the sets of dates for each sentiment\n",
    "fear_dates = fg[fg['sentiment_bin'] == 0]['date_only']\n",
    "greed_dates = fg[fg['sentiment_bin'] == 1]['date_only']\n",
    "\n",
    "# Filter trades based on these dates\n",
    "pnl_fear = trades[trades['date'].isin(fear_dates)]['closedpnl'].dropna()\n",
    "pnl_greed = trades[trades['date'].isin(greed_dates)]['closedpnl'].dropna()\n",
    "\n",
    "print(\"Fear trades:\", len(pnl_fear), \"Greed trades:\", len(pnl_greed))\n"
   ]
  },
  {
   "cell_type": "code",
   "execution_count": 25,
   "id": "4df6a702",
   "metadata": {},
   "outputs": [
    {
     "name": "stdout",
     "output_type": "stream",
     "text": [
      "Mann–Whitney U statistic = 2104229251.50, p-value = 0.00000\n",
      "Result: Statistically significant difference between Fear and Greed day PnLs.\n"
     ]
    }
   ],
   "source": [
    "if len(pnl_fear) > 10 and len(pnl_greed) > 10:\n",
    "    stat, p = mannwhitneyu(pnl_fear, pnl_greed, alternative='two-sided')\n",
    "    print(f\"Mann–Whitney U statistic = {stat:.2f}, p-value = {p:.5f}\")\n",
    "    if p < 0.05:\n",
    "        print(\"Result: Statistically significant difference between Fear and Greed day PnLs.\")\n",
    "    else:\n",
    "        print(\"Result: No statistically significant difference found.\")\n",
    "else:\n",
    "    print(\"Not enough data in one of the groups to run a valid test.\")\n"
   ]
  },
  {
   "cell_type": "code",
   "execution_count": 26,
   "id": "1ecaacb2",
   "metadata": {},
   "outputs": [],
   "source": [
    "from sklearn.ensemble import RandomForestRegressor\n",
    "from sklearn.metrics import mean_absolute_error, r2_score\n",
    "import numpy as np\n",
    "\n",
    "# Ensure daily is sorted by date\n",
    "daily_sorted = daily.copy()\n",
    "daily_sorted['date_dt'] = pd.to_datetime(daily_sorted['date'])\n",
    "daily_sorted = daily_sorted.sort_values('date_dt')\n",
    "\n",
    "# Create lag features\n",
    "daily_sorted['sentiment_lag1'] = daily_sorted['sentiment'].shift(1)\n",
    "daily_sorted['sum_pnl_lag1'] = daily_sorted['sum_pnl'].shift(1)\n",
    "daily_sorted['sum_pnl_rolling7'] = daily_sorted['sum_pnl'].rolling(7, min_periods=1).mean().shift(1)\n",
    "\n",
    "# Drop rows with NaNs (from shifts)\n",
    "model_df = daily_sorted.dropna(subset=['sum_pnl','sentiment_lag1','sum_pnl_lag1'])\n",
    "\n",
    "# Features and target\n",
    "X = model_df[['sentiment_lag1','sum_pnl_lag1','sum_pnl_rolling7','total_trades','avg_leverage']].fillna(0)\n",
    "y = model_df['sum_pnl']\n"
   ]
  },
  {
   "cell_type": "code",
   "execution_count": 27,
   "id": "0125825f",
   "metadata": {},
   "outputs": [
    {
     "name": "stdout",
     "output_type": "stream",
     "text": [
      "MAE: 62919.37047361377\n",
      "R²: 0.037890426548481404\n"
     ]
    }
   ],
   "source": [
    "split_idx = int(0.7 * len(model_df))\n",
    "X_train, X_test = X.iloc[:split_idx], X.iloc[split_idx:]\n",
    "y_train, y_test = y.iloc[:split_idx], y.iloc[split_idx:]\n",
    "\n",
    "rf = RandomForestRegressor(n_estimators=200, random_state=42)\n",
    "rf.fit(X_train, y_train)\n",
    "\n",
    "pred = rf.predict(X_test)\n",
    "\n",
    "print(\"MAE:\", mean_absolute_error(y_test, pred))\n",
    "print(\"R²:\", r2_score(y_test, pred))"
   ]
  },
  {
   "cell_type": "code",
   "execution_count": 28,
   "id": "b9926d90",
   "metadata": {},
   "outputs": [
    {
     "name": "stdout",
     "output_type": "stream",
     "text": [
      "Model saved to csv_files/rf_daily_pnl_model.joblib\n"
     ]
    }
   ],
   "source": [
    "import joblib\n",
    "\n",
    "# Save the trained Random Forest model\n",
    "joblib.dump(rf, 'csv_files/rf_daily_pnl_model.joblib')\n",
    "\n",
    "print(\"Model saved to csv_files/rf_daily_pnl_model.joblib\")"
   ]
  },
  {
   "cell_type": "code",
   "execution_count": 29,
   "id": "0cd967fa",
   "metadata": {},
   "outputs": [
    {
     "name": "stdout",
     "output_type": "stream",
     "text": [
      "Reloaded model MAE: 62919.37047361377\n"
     ]
    }
   ],
   "source": [
    "# Load the model back\n",
    "rf_loaded = joblib.load('csv_files/rf_daily_pnl_model.joblib')\n",
    "\n",
    "# Test that it gives same predictions\n",
    "pred_loaded = rf_loaded.predict(X_test)\n",
    "print(\"Reloaded model MAE:\", mean_absolute_error(y_test, pred_loaded))"
   ]
  },
  {
   "cell_type": "code",
   "execution_count": null,
   "id": "b956e1d0",
   "metadata": {},
   "outputs": [],
   "source": []
  }
 ],
 "metadata": {
  "kernelspec": {
   "display_name": "Python 3",
   "language": "python",
   "name": "python3"
  },
  "language_info": {
   "codemirror_mode": {
    "name": "ipython",
    "version": 3
   },
   "file_extension": ".py",
   "mimetype": "text/x-python",
   "name": "python",
   "nbconvert_exporter": "python",
   "pygments_lexer": "ipython3",
   "version": "3.10.4"
  }
 },
 "nbformat": 4,
 "nbformat_minor": 5
}
